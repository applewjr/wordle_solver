{
 "cells": [
  {
   "cell_type": "code",
   "execution_count": 1,
   "metadata": {},
   "outputs": [],
   "source": [
    "from flask import Flask, redirect, render_template, url_for, request, redirect, jsonify\n",
    "from datetime import datetime\n",
    "import pandas as pd\n",
    "import random\n",
    "\n",
    "df = pd.read_excel('word_data_created.xlsx')\n"
   ]
  },
  {
   "cell_type": "code",
   "execution_count": 2,
   "metadata": {},
   "outputs": [],
   "source": [
    "# main solver function\n",
    "def wordle_solver_split(import_df, must_not_be_present: str, \n",
    "    present1: str, present2: str, present3: str, present4: str, present5: str,\n",
    "    not_present1: str, not_present2: str, not_present3: str, not_present4: str, not_present5: str):\n",
    "\n",
    "    final_out2 = must_not_be_present + present1 + present2 + present3 + present4 + present5 + \\\n",
    "        not_present1 + not_present2 + not_present3 + not_present4 + not_present5\n",
    "\n",
    "    # split individual letters into lists\n",
    "    must_not_be_present = list(must_not_be_present)\n",
    "    present = [present1, present2, present3, present4, present5]\n",
    "    not_present = [not_present1, not_present2, not_present3, not_present4, not_present5]\n",
    "    must_be_present = (''.join(not_present))\n",
    "\n",
    "    places = ['one', 'two', 'three', 'four', 'five']\n",
    "    # df = pd.read_excel(import_df)\n",
    "    df = import_df.copy()\n",
    "    total_len = len(df)\n",
    "\n",
    "    # process the 'must be present' letters\n",
    "    for j in must_be_present:\n",
    "        drop_list = []\n",
    "        for i in range(len(df)):\n",
    "            drop_list.append(df['word'][i].find(j))\n",
    "        df['drop_no_' + j] = drop_list\n",
    "    for j in must_be_present:\n",
    "        df = df[df['drop_no_' + j] != -1]\n",
    "\n",
    "    # process the 'must not be present' letters\n",
    "    for i in places:\n",
    "        for j in must_not_be_present:\n",
    "            df = df[df[i] != j]\n",
    "\n",
    "    # process the 'specific values must be present' letters\n",
    "    for i, v in enumerate(places):\n",
    "        if present[i] != '':\n",
    "            df = df[df[v] == present[i]]\n",
    "\n",
    "    # process the 'specific values not must be present' letters\n",
    "    for j, k in enumerate(places):\n",
    "        if len(not_present[j]) > 0:\n",
    "            for i in not_present[j]:\n",
    "                df = df[df[k] != (','.join(i))]\n",
    "\n",
    "    # pick the best (aka reasonably good) choice by sorting on the highest 'word_score'\n",
    "    df = df.sort_values(by = 'word_score', ascending =  False)\n",
    "\n",
    "    try:\n",
    "        final_out1 = 'Pick 1: ' + df.iat[0, 0] # print top 5 in case you get trapped in a narrow path of replacing just 1 letter at a time\n",
    "    except:\n",
    "        final_out1 = 'No words found'\n",
    "    try:\n",
    "        final_out2 = 'Pick 2: ' + df.iat[1, 0] # print top 5 in case you get trapped in a narrow path of replacing just 1 letter at a time\n",
    "    except:\n",
    "        final_out2 = ''\n",
    "    try:\n",
    "        final_out3 = 'Pick 3: ' + df.iat[2, 0] # print top 5 in case you get trapped in a narrow path of replacing just 1 letter at a time\n",
    "    except:\n",
    "        final_out3 = ''\n",
    "    try:\n",
    "        final_out4 = 'Pick 4: ' + df.iat[3, 0] # print top 5 in case you get trapped in a narrow path of replacing just 1 letter at a time\n",
    "    except:\n",
    "        final_out4 = ''\n",
    "    try:\n",
    "        final_out5 = 'Pick 5: ' + df.iat[4, 0] # print top 5 in case you get trapped in a narrow path of replacing just 1 letter at a time\n",
    "    except:\n",
    "        final_out5 = ''\n",
    "    final_out_end = f'Options remaining: {len(df)}/{total_len} ({round(len(df)/total_len*100,2)}%)'\n",
    "\n",
    "    return final_out1, final_out2, final_out3, final_out4, final_out5, final_out_end"
   ]
  },
  {
   "cell_type": "code",
   "execution_count": 3,
   "metadata": {},
   "outputs": [
    {
     "data": {
      "text/plain": [
       "('Pick 1: arose',\n",
       " 'Pick 2: raise',\n",
       " 'Pick 3: arise',\n",
       " 'Pick 4: tares',\n",
       " 'Pick 5: stare',\n",
       " 'Options remaining: 5726/5726 (100.0%)')"
      ]
     },
     "execution_count": 3,
     "metadata": {},
     "output_type": "execute_result"
    }
   ],
   "source": [
    "wordle_solver_split(df, '', '', '', '', '', '', '', '', '', '', '')"
   ]
  },
  {
   "cell_type": "code",
   "execution_count": null,
   "metadata": {},
   "outputs": [],
   "source": []
  }
 ],
 "metadata": {
  "interpreter": {
   "hash": "413c54d42d867d78bc5693b88112002b4b75f03abc9fed1665b973f73c05d110"
  },
  "kernelspec": {
   "display_name": "Python 3.10.2 64-bit",
   "language": "python",
   "name": "python3"
  },
  "language_info": {
   "codemirror_mode": {
    "name": "ipython",
    "version": 3
   },
   "file_extension": ".py",
   "mimetype": "text/x-python",
   "name": "python",
   "nbconvert_exporter": "python",
   "pygments_lexer": "ipython3",
   "version": "3.10.2"
  }
 },
 "nbformat": 4,
 "nbformat_minor": 2
}
