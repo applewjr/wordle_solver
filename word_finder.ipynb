{
 "cells": [
  {
   "cell_type": "code",
   "execution_count": 1,
   "metadata": {},
   "outputs": [],
   "source": [
    "import pandas as pd\n",
    "import numpy as np\n",
    "pd.options.mode.chained_assignment = None  # default='warn'\n"
   ]
  },
  {
   "cell_type": "code",
   "execution_count": 2,
   "metadata": {},
   "outputs": [],
   "source": [
    "# for when 4 letters have been figured out but there are a series of possible final words\n",
    "# enter a string with all possible final letters, so multiple options can be tried out in 1 guess\n",
    "\n",
    "def find_word_with_letters(import_path: str, must_be_present: str):\n",
    "    df = pd.read_excel(import_path)\n",
    "\n",
    "    count_list = []\n",
    "    for i in range(len(df)):\n",
    "        counting = 0\n",
    "        for j in must_be_present:\n",
    "            if df['word'][i].find(j) == -1:\n",
    "                counting += 0\n",
    "            else:\n",
    "                counting += 1\n",
    "        count_list.append(counting)\n",
    "            \n",
    "    df['char_match_count'] = count_list\n",
    "\n",
    "    df = df.sort_values(by = ['char_match_count', 'word_score'], ascending =  False)\n",
    "\n",
    "    return df[['word', 'word_score', 'char_match_count']].head(10)\n"
   ]
  },
  {
   "cell_type": "markdown",
   "metadata": {},
   "source": [
    "Last letter helper"
   ]
  },
  {
   "cell_type": "code",
   "execution_count": 3,
   "metadata": {},
   "outputs": [
    {
     "data": {
      "text/html": [
       "<div>\n",
       "<style scoped>\n",
       "    .dataframe tbody tr th:only-of-type {\n",
       "        vertical-align: middle;\n",
       "    }\n",
       "\n",
       "    .dataframe tbody tr th {\n",
       "        vertical-align: top;\n",
       "    }\n",
       "\n",
       "    .dataframe thead th {\n",
       "        text-align: right;\n",
       "    }\n",
       "</style>\n",
       "<table border=\"1\" class=\"dataframe\">\n",
       "  <thead>\n",
       "    <tr style=\"text-align: right;\">\n",
       "      <th></th>\n",
       "      <th>word</th>\n",
       "      <th>word_score</th>\n",
       "      <th>char_match_count</th>\n",
       "    </tr>\n",
       "  </thead>\n",
       "  <tbody>\n",
       "    <tr>\n",
       "      <th>2253</th>\n",
       "      <td>gulps</td>\n",
       "      <td>0.2492</td>\n",
       "      <td>3</td>\n",
       "    </tr>\n",
       "    <tr>\n",
       "      <th>3724</th>\n",
       "      <td>plugs</td>\n",
       "      <td>0.2492</td>\n",
       "      <td>3</td>\n",
       "    </tr>\n",
       "    <tr>\n",
       "      <th>2129</th>\n",
       "      <td>glyph</td>\n",
       "      <td>0.1730</td>\n",
       "      <td>3</td>\n",
       "    </tr>\n",
       "    <tr>\n",
       "      <th>2769</th>\n",
       "      <td>lapse</td>\n",
       "      <td>0.3668</td>\n",
       "      <td>2</td>\n",
       "    </tr>\n",
       "    <tr>\n",
       "      <th>2813</th>\n",
       "      <td>leaps</td>\n",
       "      <td>0.3668</td>\n",
       "      <td>2</td>\n",
       "    </tr>\n",
       "    <tr>\n",
       "      <th>3528</th>\n",
       "      <td>pales</td>\n",
       "      <td>0.3668</td>\n",
       "      <td>2</td>\n",
       "    </tr>\n",
       "    <tr>\n",
       "      <th>3592</th>\n",
       "      <td>peals</td>\n",
       "      <td>0.3668</td>\n",
       "      <td>2</td>\n",
       "    </tr>\n",
       "    <tr>\n",
       "      <th>3708</th>\n",
       "      <td>pleas</td>\n",
       "      <td>0.3668</td>\n",
       "      <td>2</td>\n",
       "    </tr>\n",
       "    <tr>\n",
       "      <th>4319</th>\n",
       "      <td>sepal</td>\n",
       "      <td>0.3668</td>\n",
       "      <td>2</td>\n",
       "    </tr>\n",
       "    <tr>\n",
       "      <th>2013</th>\n",
       "      <td>gales</td>\n",
       "      <td>0.3582</td>\n",
       "      <td>2</td>\n",
       "    </tr>\n",
       "  </tbody>\n",
       "</table>\n",
       "</div>"
      ],
      "text/plain": [
       "       word  word_score  char_match_count\n",
       "2253  gulps      0.2492                 3\n",
       "3724  plugs      0.2492                 3\n",
       "2129  glyph      0.1730                 3\n",
       "2769  lapse      0.3668                 2\n",
       "2813  leaps      0.3668                 2\n",
       "3528  pales      0.3668                 2\n",
       "3592  peals      0.3668                 2\n",
       "3708  pleas      0.3668                 2\n",
       "4319  sepal      0.3668                 2\n",
       "2013  gales      0.3582                 2"
      ]
     },
     "execution_count": 3,
     "metadata": {},
     "output_type": "execute_result"
    }
   ],
   "source": [
    "find_word_with_letters('C:/Users/james/OneDrive/Desktop/Projects/wordle/word_data_created.xlsx',\n",
    "    'pgl') # desired letters to be present (leave no spaces)"
   ]
  },
  {
   "cell_type": "markdown",
   "metadata": {},
   "source": [
    "Solvers"
   ]
  }
 ],
 "metadata": {
  "kernelspec": {
   "display_name": "Python 3",
   "language": "python",
   "name": "python3"
  },
  "language_info": {
   "codemirror_mode": {
    "name": "ipython",
    "version": 3
   },
   "file_extension": ".py",
   "mimetype": "text/x-python",
   "name": "python",
   "nbconvert_exporter": "python",
   "pygments_lexer": "ipython3",
   "version": "3.10.2"
  }
 },
 "nbformat": 4,
 "nbformat_minor": 2
}
